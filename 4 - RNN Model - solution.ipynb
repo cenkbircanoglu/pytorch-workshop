{
 "cells": [
  {
   "cell_type": "markdown",
   "metadata": {},
   "source": [
    "This notebook shows how to build a model to classify text, using the TREC-6 dataset.\n",
    "\n",
    "The TREC-6 dataset consist on a set of 5,952 questions written in English, classified in the following categories, depending on the answer:\n",
    "\n",
    "* HUM: Human\n",
    "* DESC: Description\n",
    "* ABBR: Abbreviation\n",
    "* LOC: Location\n",
    "* NUM: Number\n",
    "* ENTY: Entity"
   ]
  },
  {
   "cell_type": "markdown",
   "metadata": {},
   "source": [
    "# Install and import required libraries"
   ]
  },
  {
   "cell_type": "code",
   "execution_count": 40,
   "metadata": {},
   "outputs": [
    {
     "name": "stdout",
     "output_type": "stream",
     "text": [
      "Requirement already satisfied: torchtext in /Users/manuelsh/miniconda/envs/conda3.6/lib/python3.6/site-packages (0.3.1)\n",
      "Requirement already satisfied: numpy in /Users/manuelsh/miniconda/envs/conda3.6/lib/python3.6/site-packages (from torchtext) (1.15.4)\n",
      "Requirement already satisfied: tqdm in /Users/manuelsh/miniconda/envs/conda3.6/lib/python3.6/site-packages (from torchtext) (4.28.1)\n",
      "Requirement already satisfied: requests in /Users/manuelsh/miniconda/envs/conda3.6/lib/python3.6/site-packages (from torchtext) (2.20.1)\n",
      "Requirement already satisfied: torch in /Users/manuelsh/miniconda/envs/conda3.6/lib/python3.6/site-packages (from torchtext) (0.4.1)\n",
      "Requirement already satisfied: certifi>=2017.4.17 in /Users/manuelsh/miniconda/envs/conda3.6/lib/python3.6/site-packages (from requests->torchtext) (2018.10.15)\n",
      "Requirement already satisfied: chardet<3.1.0,>=3.0.2 in /Users/manuelsh/miniconda/envs/conda3.6/lib/python3.6/site-packages (from requests->torchtext) (3.0.4)\n",
      "Requirement already satisfied: idna<2.8,>=2.5 in /Users/manuelsh/miniconda/envs/conda3.6/lib/python3.6/site-packages (from requests->torchtext) (2.7)\n",
      "Requirement already satisfied: urllib3<1.25,>=1.21.1 in /Users/manuelsh/miniconda/envs/conda3.6/lib/python3.6/site-packages (from requests->torchtext) (1.23)\n",
      "Fetching package metadata .............\n",
      "Solving package specifications: .\n",
      "\n",
      "# All requested packages already installed.\n",
      "# packages in environment at /Users/manuelsh/miniconda/envs/conda3.6:\n",
      "#\n",
      "spacy                     2.0.13           py36hf8a1672_0    conda-forge\n",
      "Requirement already satisfied: en_core_web_sm==2.0.0 from https://github.com/explosion/spacy-models/releases/download/en_core_web_sm-2.0.0/en_core_web_sm-2.0.0.tar.gz#egg=en_core_web_sm==2.0.0 in /Users/manuelsh/miniconda/envs/conda3.6/lib/python3.6/site-packages (2.0.0)\n",
      "\n",
      "\u001b[93m    Linking successful\u001b[0m\n",
      "    /Users/manuelsh/miniconda/envs/conda3.6/lib/python3.6/site-packages/en_core_web_sm\n",
      "    -->\n",
      "    /Users/manuelsh/miniconda/envs/conda3.6/lib/python3.6/site-packages/spacy/data/en\n",
      "\n",
      "    You can now load the model via spacy.load('en')\n",
      "\n"
     ]
    }
   ],
   "source": [
    "# The following lines will install the torchtext and spacy libraries, \n",
    "# used to prepare text datasets for models in PyTorch.\n",
    "\n",
    "!pip install torchtext\n",
    "!conda install -c conda-forge spacy -y\n",
    "!python -m spacy download en"
   ]
  },
  {
   "cell_type": "code",
   "execution_count": 41,
   "metadata": {},
   "outputs": [],
   "source": [
    "from torchtext import data, datasets\n",
    "import random\n",
    "import torch\n",
    "import torch.nn as nn\n",
    "import torch.nn.functional as F\n",
    "\n",
    "import matplotlib.pyplot as plt\n",
    "%matplotlib inline"
   ]
  },
  {
   "cell_type": "markdown",
   "metadata": {},
   "source": [
    "# 1 - Data preparation"
   ]
  },
  {
   "cell_type": "code",
   "execution_count": 42,
   "metadata": {},
   "outputs": [
    {
     "name": "stdout",
     "output_type": "stream",
     "text": [
      "Train length: 5452\n",
      "Test length: 500\n"
     ]
    }
   ],
   "source": [
    "# Get datasets\n",
    "text_field = data.Field(lower=True, batch_first=True, tokenize='spacy')\n",
    "label_field = data.Field(sequential=False, unk_token = None)\n",
    "train, test = datasets.TREC.splits(text_field, label_field)\n",
    "\n",
    "print('Train length:',str(len(train)))\n",
    "print('Test length:',str(len(test)))"
   ]
  },
  {
   "cell_type": "code",
   "execution_count": 43,
   "metadata": {},
   "outputs": [
    {
     "name": "stdout",
     "output_type": "stream",
     "text": [
      "what letter does gorbachev 's middle name start with ? ENTY\n",
      "what continent is bolivia on ? LOC\n",
      "how does the tail affect the flight of a kite ? DESC\n",
      "what kind of animal was winnie the pooh ? ENTY\n",
      "who became president of the u.s. in 1789 ? HUM\n",
      "how is an executioner determined ? DESC\n",
      "what cbs soap opera was interrupted by the bulletin of john f. kennedy 's assassination ? ENTY\n",
      "why are peanut butter cookies topped with crisscrosses ? DESC\n",
      "what d.h. lawrence novel was originally titled tenderness ? ENTY\n",
      "where is trinidad ? LOC\n"
     ]
    }
   ],
   "source": [
    "# Show some examples\n",
    "\n",
    "for i in range(10):\n",
    "    random_index = random.randint(0,len(train))\n",
    "    print(' '.join(train.examples[random_index].text), train.examples[random_index].label)"
   ]
  },
  {
   "cell_type": "code",
   "execution_count": 44,
   "metadata": {},
   "outputs": [
    {
     "name": "stdout",
     "output_type": "stream",
     "text": [
      "Vocabulary length: 5002\n",
      "Number of classes: 6\n"
     ]
    }
   ],
   "source": [
    "# Build vocabulary\n",
    "vocab_length = 5000\n",
    "text_field.build_vocab(train, max_size=vocab_length )\n",
    "label_field.build_vocab(train)\n",
    "\n",
    "classes_count = len(label_field.vocab)\n",
    "word_count = len(text_field.vocab)\n",
    "print('Vocabulary length:',word_count )\n",
    "print('Number of classes:',classes_count )\n"
   ]
  },
  {
   "cell_type": "markdown",
   "metadata": {},
   "source": [
    "# 2 - Build model"
   ]
  },
  {
   "cell_type": "code",
   "execution_count": 70,
   "metadata": {},
   "outputs": [
    {
     "data": {
      "text/plain": [
       "RNN(\n",
       "  (embeddings): Embedding(5002, 20)\n",
       "  (rnn): LSTM(20, 8, batch_first=True)\n",
       "  (linear): Linear(in_features=8, out_features=6, bias=True)\n",
       ")"
      ]
     },
     "execution_count": 70,
     "metadata": {},
     "output_type": "execute_result"
    }
   ],
   "source": [
    "class RNN(nn.Module):\n",
    "    def __init__(self, num_tokens, embedding_dim, rnn_dim, num_layers, num_classes):\n",
    "        super(RNN, self).__init__()\n",
    "        self.embeddings = nn.Embedding(num_tokens, embedding_dim)\n",
    "        self.rnn = nn.LSTM(input_size = embedding_dim,\n",
    "                           hidden_size = rnn_dim, \n",
    "                           num_layers = num_layers,\n",
    "                           batch_first = True)\n",
    "        self.linear = nn.Linear(rnn_dim, num_classes)\n",
    "\n",
    "    def forward(self, x):\n",
    "        emb = self.embeddings(x)\n",
    "        rnn_output, rnn_hidden = self.rnn(emb)\n",
    "        output = self.linear(rnn_output[:,-1,:])\n",
    "        return output\n",
    "\n",
    "\n",
    "n_hidden = 128\n",
    "model = RNN(word_count, 20, 8, 1, classes_count)\n",
    "model"
   ]
  },
  {
   "cell_type": "markdown",
   "metadata": {},
   "source": [
    "# 3 - Objective function (and optimizer)"
   ]
  },
  {
   "cell_type": "code",
   "execution_count": 71,
   "metadata": {},
   "outputs": [],
   "source": [
    "loss_function = nn.CrossEntropyLoss()\n",
    "optimizer = torch.optim.Adam(model.parameters(), lr=0.001)\n",
    "lr_decay = torch.optim.lr_scheduler.ExponentialLR(optimizer, gamma=0.999)\n",
    "#lr_decay = torch.optim.lr_scheduler.ReduceLROnPlateau( optimizer, factor=0.95, patience=10 )"
   ]
  },
  {
   "cell_type": "markdown",
   "metadata": {},
   "source": [
    "# 4 - Train model (and test during training)"
   ]
  },
  {
   "cell_type": "code",
   "execution_count": 72,
   "metadata": {},
   "outputs": [],
   "source": [
    "batch_size = 32\n",
    "num_epochs = 20\n",
    "\n",
    "train_iter = data.BucketIterator(train, \n",
    "                                 batch_size=batch_size, \n",
    "                                 sort_within_batch=True, \n",
    "                                 shuffle = True, \n",
    "                                 repeat = False)\n",
    "\n",
    "test_iter = data.BucketIterator(test, \n",
    "                          batch_size=30, \n",
    "                          sort_within_batch=True, \n",
    "                          shuffle = True, \n",
    "                          repeat = False)"
   ]
  },
  {
   "cell_type": "code",
   "execution_count": 73,
   "metadata": {},
   "outputs": [],
   "source": [
    "# Reset variables \n",
    "accuracies = []\n",
    "losses_train = []\n",
    "losses_test = []\n",
    "train_accuracy = 0\n",
    "step_count = 0\n",
    "max_accuracy = 0"
   ]
  },
  {
   "cell_type": "code",
   "execution_count": 74,
   "metadata": {},
   "outputs": [
    {
     "name": "stdout",
     "output_type": "stream",
     "text": [
      "Training epoch  0\n",
      "Step:  0 Accuracy in test set: 0.017999999225139618\n",
      "Step:  100 Accuracy in test set: 0.12999999523162842\n",
      "Training epoch  1\n",
      "Step:  200 Accuracy in test set: 0.12999999523162842\n",
      "Step:  300 Accuracy in test set: 0.1379999965429306\n",
      "Training epoch  2\n",
      "Step:  400 Accuracy in test set: 0.2800000011920929\n",
      "Step:  500 Accuracy in test set: 0.2919999957084656\n",
      "Training epoch  3\n",
      "Step:  600 Accuracy in test set: 0.36399999260902405\n",
      "Training epoch  4\n",
      "Step:  700 Accuracy in test set: 0.3880000114440918\n",
      "Step:  800 Accuracy in test set: 0.4480000138282776\n",
      "Training epoch  5\n",
      "Step:  900 Accuracy in test set: 0.4339999854564667\n",
      "Step:  1000 Accuracy in test set: 0.5260000228881836\n",
      "Training epoch  6\n",
      "Step:  1100 Accuracy in test set: 0.5059999823570251\n",
      "Training epoch  7\n",
      "Step:  1200 Accuracy in test set: 0.5440000295639038\n",
      "Step:  1300 Accuracy in test set: 0.5239999890327454\n",
      "Training epoch  8\n",
      "Step:  1400 Accuracy in test set: 0.5320000052452087\n",
      "Step:  1500 Accuracy in test set: 0.5400000214576721\n",
      "Training epoch  9\n",
      "Step:  1600 Accuracy in test set: 0.5640000104904175\n",
      "Step:  1700 Accuracy in test set: 0.5440000295639038\n",
      "Training epoch  10\n",
      "Step:  1800 Accuracy in test set: 0.5440000295639038\n",
      "Training epoch  11\n",
      "Step:  1900 Accuracy in test set: 0.5559999942779541\n",
      "Step:  2000 Accuracy in test set: 0.5440000295639038\n",
      "Training epoch  12\n",
      "Step:  2100 Accuracy in test set: 0.5400000214576721\n",
      "Step:  2200 Accuracy in test set: 0.550000011920929\n",
      "Training epoch  13\n",
      "Step:  2300 Accuracy in test set: 0.5540000200271606\n",
      "Training epoch  14\n",
      "Step:  2400 Accuracy in test set: 0.5559999942779541\n",
      "Step:  2500 Accuracy in test set: 0.5559999942779541\n",
      "Training epoch  15\n",
      "Step:  2600 Accuracy in test set: 0.5580000281333923\n",
      "Step:  2700 Accuracy in test set: 0.5600000023841858\n",
      "Training epoch  16\n",
      "Step:  2800 Accuracy in test set: 0.5540000200271606\n",
      "Step:  2900 Accuracy in test set: 0.5600000023841858\n",
      "Training epoch  17\n",
      "Step:  3000 Accuracy in test set: 0.5600000023841858\n",
      "Training epoch  18\n",
      "Step:  3100 Accuracy in test set: 0.5540000200271606\n",
      "Step:  3200 Accuracy in test set: 0.5659999847412109\n",
      "Training epoch  19\n",
      "Step:  3300 Accuracy in test set: 0.5740000009536743\n",
      "Step:  3400 Accuracy in test set: 0.5619999766349792\n"
     ]
    }
   ],
   "source": [
    "# Training loop\n",
    "for i in range(num_epochs):\n",
    "    print('Training epoch ',i)\n",
    "    train_iter.init_epoch()\n",
    "    for batch in train_iter:        \n",
    "\n",
    "        x_train = batch.text\n",
    "        y_train = batch.label\n",
    "\n",
    "        # Forward pass\n",
    "        y_model = model(x_train)\n",
    "\n",
    "        # Loss function\n",
    "        loss = loss_function(y_model, y_train)\n",
    "        losses_train.append(float(loss))\n",
    "\n",
    "        # Backward pass \n",
    "        model.zero_grad()\n",
    "        loss.backward()\n",
    "        \n",
    "        # Update parameters\n",
    "        optimizer.step()\n",
    "\n",
    "        # Evaluation in test set\n",
    "\n",
    "        if step_count%100 == 0:\n",
    "\n",
    "            # Calculate model in test set by pieces\n",
    "            model.eval() # Set model to eval (if there is dropout, will set it to zero)\n",
    "            y_model_test_list = []\n",
    "            y_test_list = []\n",
    "            \n",
    "            for test_batch in test_iter:            \n",
    "                y_model_test_list.append(model(test_batch.text))            \n",
    "                y_test_list.append(test_batch.label)\n",
    "            model.train() # Set model to train (if there is dropout, will not be zero anymore)\n",
    "            test_iter.init_epoch()\n",
    "            \n",
    "            # Calculate accuracy\n",
    "            accuracy = float( (torch.cat(y_model_test_list).max(dim=1)[1] == torch.cat(y_test_list)).float().mean() )\n",
    "            print('Step: ', step_count, 'Accuracy in test set:', accuracy)\n",
    "            accuracies.append(accuracy)\n",
    "\n",
    "        lr_decay.step()\n",
    "        step_count += 1"
   ]
  },
  {
   "cell_type": "code",
   "execution_count": 75,
   "metadata": {},
   "outputs": [
    {
     "data": {
      "text/plain": [
       "[<matplotlib.lines.Line2D at 0x12207e4e0>]"
      ]
     },
     "execution_count": 75,
     "metadata": {},
     "output_type": "execute_result"
    },
    {
     "data": {
      "image/png": "[encoded data removed]",
      "text/plain": [
       "<Figure size 432x288 with 1 Axes>"
      ]
     },
     "metadata": {
      "needs_background": "light"
     },
     "output_type": "display_data"
    }
   ],
   "source": [
    "plt.plot(accuracies)"
   ]
  },
  {
   "cell_type": "code",
   "execution_count": 32,
   "metadata": {},
   "outputs": [
    {
     "data": {
      "text/plain": [
       "[<matplotlib.lines.Line2D at 0x123d9a438>]"
      ]
     },
     "execution_count": 32,
     "metadata": {},
     "output_type": "execute_result"
    },
    {
     "data": {
      "image/png": "[encoded data removed]",
      "text/plain": [
       "<Figure size 432x288 with 1 Axes>"
      ]
     },
     "metadata": {
      "needs_background": "light"
     },
     "output_type": "display_data"
    }
   ],
   "source": [
    "# Exercises:\n",
    "# - Apply dropout between the LSTM and the linear layer\n",
    "# - Add more complexity to the model (RNN layers, other layers)\n",
    "# - Bidirectional RNN"
   ]
  }
 ],
 "metadata": {
  "kernelspec": {
   "display_name": "Python 3",
   "language": "python",
   "name": "python3"
  },
  "language_info": {
   "codemirror_mode": {
    "name": "ipython",
    "version": 3
   },
   "file_extension": ".py",
   "mimetype": "text/x-python",
   "name": "python",
   "nbconvert_exporter": "python",
   "pygments_lexer": "ipython3",
   "version": "3.6.7"
  }
 },
 "nbformat": 4,
 "nbformat_minor": 2
}
