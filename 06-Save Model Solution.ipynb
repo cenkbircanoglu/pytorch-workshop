{
 "cells": [
  {
   "cell_type": "code",
   "execution_count": 1,
   "metadata": {},
   "outputs": [],
   "source": [
    "import warnings\n",
    "warnings.filterwarnings('ignore')"
   ]
  },
  {
   "cell_type": "code",
   "execution_count": 2,
   "metadata": {},
   "outputs": [],
   "source": [
    "import torch\n",
    "from torch import nn, optim"
   ]
  },
  {
   "cell_type": "code",
   "execution_count": 3,
   "metadata": {},
   "outputs": [],
   "source": [
    "# Define model\n",
    "class ConvModel(nn.Module):\n",
    "    def __init__(self):\n",
    "        super(ConvModel, self).__init__()\n",
    "        self.conv1 = nn.Conv2d(1, 2, 5)\n",
    "        self.pool = nn.MaxPool2d(2, 2)\n",
    "        self.conv2 = nn.Conv2d(2, 16, 5)\n",
    "        self.fc1 = nn.Linear(16 * 5 * 5, 120)\n",
    "        self.fc2 = nn.Linear(120, 84)\n",
    "        self.fc3 = nn.Linear(84, 10)\n",
    "\n",
    "    def forward(self, x):\n",
    "        x = self.pool(F.relu(self.conv1(x)))\n",
    "        x = self.pool(F.relu(self.conv2(x)))\n",
    "        x = x.view(-1, 16 * 5 * 5)\n",
    "        x = F.relu(self.fc1(x))\n",
    "        x = F.relu(self.fc2(x))\n",
    "        x = self.fc3(x)\n",
    "        return x\n",
    "\n",
    "# Initialize model\n",
    "model = ConvModel()\n",
    "\n",
    "# Initialize optimizer\n",
    "optimizer = optim.SGD(model.parameters(), lr=0.001, momentum=0.9)"
   ]
  },
  {
   "cell_type": "code",
   "execution_count": 4,
   "metadata": {},
   "outputs": [
    {
     "name": "stdout",
     "output_type": "stream",
     "text": [
      "Model's state_dict:\n",
      "conv1.weight \t torch.Size([2, 1, 5, 5])\n",
      "conv1.bias \t torch.Size([2])\n",
      "conv2.weight \t torch.Size([16, 2, 5, 5])\n",
      "conv2.bias \t torch.Size([16])\n",
      "fc1.weight \t torch.Size([120, 400])\n",
      "fc1.bias \t torch.Size([120])\n",
      "fc2.weight \t torch.Size([84, 120])\n",
      "fc2.bias \t torch.Size([84])\n",
      "fc3.weight \t torch.Size([10, 84])\n",
      "fc3.bias \t torch.Size([10])\n"
     ]
    }
   ],
   "source": [
    "# Print model's state_dict\n",
    "print(\"Model's state_dict:\")\n",
    "for param_tensor in model.state_dict():\n",
    "    print(param_tensor, \"\\t\", model.state_dict()[param_tensor].shape)"
   ]
  },
  {
   "cell_type": "markdown",
   "metadata": {},
   "source": [
    "# Save whole model serialised (not recommended)"
   ]
  },
  {
   "cell_type": "code",
   "execution_count": 5,
   "metadata": {},
   "outputs": [],
   "source": [
    "# Saving a model (seriealised)\n",
    "torch.save(model, 'model.pt')"
   ]
  },
  {
   "cell_type": "code",
   "execution_count": 6,
   "metadata": {},
   "outputs": [],
   "source": [
    "model_restored = torch.load('model.pt')"
   ]
  },
  {
   "cell_type": "code",
   "execution_count": 7,
   "metadata": {},
   "outputs": [
    {
     "name": "stdout",
     "output_type": "stream",
     "text": [
      "Model's state_dict:\n",
      "conv1.weight \t torch.Size([2, 1, 5, 5])\n",
      "conv1.bias \t torch.Size([2])\n",
      "conv2.weight \t torch.Size([16, 2, 5, 5])\n",
      "conv2.bias \t torch.Size([16])\n",
      "fc1.weight \t torch.Size([120, 400])\n",
      "fc1.bias \t torch.Size([120])\n",
      "fc2.weight \t torch.Size([84, 120])\n",
      "fc2.bias \t torch.Size([84])\n",
      "fc3.weight \t torch.Size([10, 84])\n",
      "fc3.bias \t torch.Size([10])\n"
     ]
    }
   ],
   "source": [
    "print(\"Model's state_dict:\")\n",
    "for param_tensor in model_restored.state_dict():\n",
    "    print(param_tensor, \"\\t\", model_restored.state_dict()[param_tensor].shape)"
   ]
  },
  {
   "cell_type": "markdown",
   "metadata": {},
   "source": [
    "# Save parameters of the model (recommended way)"
   ]
  },
  {
   "cell_type": "code",
   "execution_count": 8,
   "metadata": {},
   "outputs": [],
   "source": [
    "# We save the parameters\n",
    "torch.save(model.state_dict(), 'model_params.pt')"
   ]
  },
  {
   "cell_type": "code",
   "execution_count": 9,
   "metadata": {},
   "outputs": [],
   "source": [
    "# We generate another object with the same shape\n",
    "model_2 = ConvModel()"
   ]
  },
  {
   "cell_type": "code",
   "execution_count": 10,
   "metadata": {},
   "outputs": [
    {
     "data": {
      "text/plain": [
       "Parameter containing:\n",
       "tensor([[[[ 0.1238, -0.1151,  0.1551, -0.0914, -0.1724],\n",
       "          [ 0.0418,  0.1676, -0.1460, -0.1062, -0.0197],\n",
       "          [ 0.1974,  0.1027,  0.0787,  0.0060, -0.0075],\n",
       "          [-0.0379, -0.1745, -0.1925,  0.1519, -0.0093],\n",
       "          [ 0.1419, -0.0785, -0.0469, -0.0459, -0.1283]]],\n",
       "\n",
       "\n",
       "        [[[-0.1950,  0.0287,  0.1162, -0.1438, -0.1971],\n",
       "          [-0.1488, -0.1836,  0.1935, -0.1578,  0.1431],\n",
       "          [-0.1527, -0.0799, -0.0696,  0.1878, -0.1473],\n",
       "          [ 0.0102,  0.0118,  0.0059,  0.1160,  0.1397],\n",
       "          [ 0.0977, -0.1775,  0.1203,  0.0436, -0.1443]]]], requires_grad=True)"
      ]
     },
     "execution_count": 10,
     "metadata": {},
     "output_type": "execute_result"
    }
   ],
   "source": [
    "list( model_2.parameters() )[0]"
   ]
  },
  {
   "cell_type": "code",
   "execution_count": 11,
   "metadata": {},
   "outputs": [
    {
     "data": {
      "text/plain": [
       "<All keys matched successfully>"
      ]
     },
     "execution_count": 11,
     "metadata": {},
     "output_type": "execute_result"
    }
   ],
   "source": [
    "model_2.load_state_dict(torch.load('model_params.pt'))"
   ]
  },
  {
   "cell_type": "code",
   "execution_count": 12,
   "metadata": {},
   "outputs": [
    {
     "data": {
      "text/plain": [
       "Parameter containing:\n",
       "tensor([[[[ 0.1946, -0.1003,  0.0519, -0.1749,  0.1749],\n",
       "          [-0.0279, -0.0186, -0.0408, -0.1266,  0.1106],\n",
       "          [-0.0316,  0.1874,  0.1554,  0.0999, -0.1427],\n",
       "          [-0.1352, -0.0623,  0.1385,  0.0913,  0.0545],\n",
       "          [ 0.0167, -0.0181,  0.1557, -0.0579, -0.0235]]],\n",
       "\n",
       "\n",
       "        [[[ 0.0760, -0.0011, -0.1318,  0.1222,  0.1512],\n",
       "          [ 0.1367, -0.0802, -0.0815, -0.1521, -0.1479],\n",
       "          [-0.1535, -0.0156,  0.1213,  0.0381,  0.0718],\n",
       "          [ 0.0774, -0.0844,  0.0078,  0.1703,  0.0775],\n",
       "          [ 0.0774, -0.0710, -0.0067,  0.1794, -0.1629]]]], requires_grad=True)"
      ]
     },
     "execution_count": 12,
     "metadata": {},
     "output_type": "execute_result"
    }
   ],
   "source": [
    "list( model_2.parameters() )[0]"
   ]
  },
  {
   "cell_type": "code",
   "execution_count": 13,
   "metadata": {},
   "outputs": [
    {
     "data": {
      "text/plain": [
       "Parameter containing:\n",
       "tensor([[[[ 0.1946, -0.1003,  0.0519, -0.1749,  0.1749],\n",
       "          [-0.0279, -0.0186, -0.0408, -0.1266,  0.1106],\n",
       "          [-0.0316,  0.1874,  0.1554,  0.0999, -0.1427],\n",
       "          [-0.1352, -0.0623,  0.1385,  0.0913,  0.0545],\n",
       "          [ 0.0167, -0.0181,  0.1557, -0.0579, -0.0235]]],\n",
       "\n",
       "\n",
       "        [[[ 0.0760, -0.0011, -0.1318,  0.1222,  0.1512],\n",
       "          [ 0.1367, -0.0802, -0.0815, -0.1521, -0.1479],\n",
       "          [-0.1535, -0.0156,  0.1213,  0.0381,  0.0718],\n",
       "          [ 0.0774, -0.0844,  0.0078,  0.1703,  0.0775],\n",
       "          [ 0.0774, -0.0710, -0.0067,  0.1794, -0.1629]]]], requires_grad=True)"
      ]
     },
     "execution_count": 13,
     "metadata": {},
     "output_type": "execute_result"
    }
   ],
   "source": [
    "list( model.parameters() )[0]"
   ]
  },
  {
   "cell_type": "code",
   "execution_count": null,
   "metadata": {},
   "outputs": [],
   "source": []
  }
 ],
 "metadata": {
  "kernelspec": {
   "display_name": "Python 3",
   "language": "python",
   "name": "python3"
  },
  "language_info": {
   "codemirror_mode": {
    "name": "ipython",
    "version": 3
   },
   "file_extension": ".py",
   "mimetype": "text/x-python",
   "name": "python",
   "nbconvert_exporter": "python",
   "pygments_lexer": "ipython3",
   "version": "3.6.9"
  }
 },
 "nbformat": 4,
 "nbformat_minor": 2
}
