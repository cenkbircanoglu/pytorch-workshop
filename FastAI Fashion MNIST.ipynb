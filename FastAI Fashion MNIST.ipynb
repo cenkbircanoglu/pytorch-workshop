{
 "cells": [
  {
   "cell_type": "code",
   "execution_count": 1,
   "metadata": {},
   "outputs": [
    {
     "name": "stdout",
     "output_type": "stream",
     "text": [
      "Requirement already satisfied: fastai in /Users/cenk.bircanoglu/.pyenv/versions/3.6.9/envs/learn-pytorch/lib/python3.6/site-packages (1.0.59)\n",
      "Requirement already satisfied: bottleneck in /Users/cenk.bircanoglu/.pyenv/versions/3.6.9/envs/learn-pytorch/lib/python3.6/site-packages (from fastai) (1.3.1)\n",
      "Requirement already satisfied: fastprogress>=0.1.19 in /Users/cenk.bircanoglu/.pyenv/versions/3.6.9/envs/learn-pytorch/lib/python3.6/site-packages (from fastai) (0.1.22)\n",
      "Requirement already satisfied: beautifulsoup4 in /Users/cenk.bircanoglu/.pyenv/versions/3.6.9/envs/learn-pytorch/lib/python3.6/site-packages (from fastai) (4.8.1)\n",
      "Requirement already satisfied: matplotlib in /Users/cenk.bircanoglu/.pyenv/versions/3.6.9/envs/learn-pytorch/lib/python3.6/site-packages (from fastai) (3.1.2)\n",
      "Requirement already satisfied: numexpr in /Users/cenk.bircanoglu/.pyenv/versions/3.6.9/envs/learn-pytorch/lib/python3.6/site-packages (from fastai) (2.7.0)\n",
      "Requirement already satisfied: numpy>=1.15 in /Users/cenk.bircanoglu/.pyenv/versions/3.6.9/envs/learn-pytorch/lib/python3.6/site-packages (from fastai) (1.17.4)\n",
      "Requirement already satisfied: nvidia-ml-py3 in /Users/cenk.bircanoglu/.pyenv/versions/3.6.9/envs/learn-pytorch/lib/python3.6/site-packages (from fastai) (7.352.0)\n",
      "Requirement already satisfied: pandas in /Users/cenk.bircanoglu/.pyenv/versions/3.6.9/envs/learn-pytorch/lib/python3.6/site-packages (from fastai) (0.25.3)\n",
      "Requirement already satisfied: packaging in /Users/cenk.bircanoglu/.pyenv/versions/3.6.9/envs/learn-pytorch/lib/python3.6/site-packages (from fastai) (19.2)\n",
      "Requirement already satisfied: Pillow in /Users/cenk.bircanoglu/.pyenv/versions/3.6.9/envs/learn-pytorch/lib/python3.6/site-packages (from fastai) (6.2.1)\n",
      "Requirement already satisfied: pyyaml in /Users/cenk.bircanoglu/.pyenv/versions/3.6.9/envs/learn-pytorch/lib/python3.6/site-packages (from fastai) (5.2)\n",
      "Requirement already satisfied: requests in /Users/cenk.bircanoglu/.pyenv/versions/3.6.9/envs/learn-pytorch/lib/python3.6/site-packages (from fastai) (2.22.0)\n",
      "Requirement already satisfied: scipy in /Users/cenk.bircanoglu/.pyenv/versions/3.6.9/envs/learn-pytorch/lib/python3.6/site-packages (from fastai) (1.3.3)\n",
      "Requirement already satisfied: torch>=1.0.0 in /Users/cenk.bircanoglu/.pyenv/versions/3.6.9/envs/learn-pytorch/lib/python3.6/site-packages (from fastai) (1.3.1)\n",
      "Requirement already satisfied: spacy>=2.0.18 in /Users/cenk.bircanoglu/.pyenv/versions/3.6.9/envs/learn-pytorch/lib/python3.6/site-packages (from fastai) (2.2.3)\n",
      "Requirement already satisfied: torchvision in /Users/cenk.bircanoglu/.pyenv/versions/3.6.9/envs/learn-pytorch/lib/python3.6/site-packages (from fastai) (0.4.2)\n",
      "Requirement already satisfied: pynvx>=1.0.0 in /Users/cenk.bircanoglu/.pyenv/versions/3.6.9/envs/learn-pytorch/lib/python3.6/site-packages (from fastai) (1.0.0)\n",
      "Requirement already satisfied: dataclasses in /Users/cenk.bircanoglu/.pyenv/versions/3.6.9/envs/learn-pytorch/lib/python3.6/site-packages (from fastai) (0.7)\n",
      "Requirement already satisfied: soupsieve>=1.2 in /Users/cenk.bircanoglu/.pyenv/versions/3.6.9/envs/learn-pytorch/lib/python3.6/site-packages (from beautifulsoup4->fastai) (1.9.5)\n",
      "Requirement already satisfied: cycler>=0.10 in /Users/cenk.bircanoglu/.pyenv/versions/3.6.9/envs/learn-pytorch/lib/python3.6/site-packages (from matplotlib->fastai) (0.10.0)\n",
      "Requirement already satisfied: kiwisolver>=1.0.1 in /Users/cenk.bircanoglu/.pyenv/versions/3.6.9/envs/learn-pytorch/lib/python3.6/site-packages (from matplotlib->fastai) (1.1.0)\n",
      "Requirement already satisfied: pyparsing!=2.0.4,!=2.1.2,!=2.1.6,>=2.0.1 in /Users/cenk.bircanoglu/.pyenv/versions/3.6.9/envs/learn-pytorch/lib/python3.6/site-packages (from matplotlib->fastai) (2.4.5)\n",
      "Requirement already satisfied: python-dateutil>=2.1 in /Users/cenk.bircanoglu/.pyenv/versions/3.6.9/envs/learn-pytorch/lib/python3.6/site-packages (from matplotlib->fastai) (2.8.1)\n",
      "Requirement already satisfied: pytz>=2017.2 in /Users/cenk.bircanoglu/.pyenv/versions/3.6.9/envs/learn-pytorch/lib/python3.6/site-packages (from pandas->fastai) (2019.3)\n",
      "Requirement already satisfied: six in /Users/cenk.bircanoglu/.pyenv/versions/3.6.9/envs/learn-pytorch/lib/python3.6/site-packages (from packaging->fastai) (1.13.0)\n",
      "Requirement already satisfied: chardet<3.1.0,>=3.0.2 in /Users/cenk.bircanoglu/.pyenv/versions/3.6.9/envs/learn-pytorch/lib/python3.6/site-packages (from requests->fastai) (3.0.4)\n",
      "Requirement already satisfied: urllib3!=1.25.0,!=1.25.1,<1.26,>=1.21.1 in /Users/cenk.bircanoglu/.pyenv/versions/3.6.9/envs/learn-pytorch/lib/python3.6/site-packages (from requests->fastai) (1.25.7)\n",
      "Requirement already satisfied: certifi>=2017.4.17 in /Users/cenk.bircanoglu/.pyenv/versions/3.6.9/envs/learn-pytorch/lib/python3.6/site-packages (from requests->fastai) (2019.11.28)\n",
      "Requirement already satisfied: idna<2.9,>=2.5 in /Users/cenk.bircanoglu/.pyenv/versions/3.6.9/envs/learn-pytorch/lib/python3.6/site-packages (from requests->fastai) (2.8)\n",
      "Requirement already satisfied: wasabi<1.1.0,>=0.4.0 in /Users/cenk.bircanoglu/.pyenv/versions/3.6.9/envs/learn-pytorch/lib/python3.6/site-packages (from spacy>=2.0.18->fastai) (0.4.2)\n",
      "Requirement already satisfied: setuptools in /Users/cenk.bircanoglu/.pyenv/versions/3.6.9/envs/learn-pytorch/lib/python3.6/site-packages (from spacy>=2.0.18->fastai) (40.6.2)\n",
      "Requirement already satisfied: cymem<2.1.0,>=2.0.2 in /Users/cenk.bircanoglu/.pyenv/versions/3.6.9/envs/learn-pytorch/lib/python3.6/site-packages (from spacy>=2.0.18->fastai) (2.0.3)\n",
      "Requirement already satisfied: catalogue<1.1.0,>=0.0.7 in /Users/cenk.bircanoglu/.pyenv/versions/3.6.9/envs/learn-pytorch/lib/python3.6/site-packages (from spacy>=2.0.18->fastai) (0.0.8)\n",
      "Requirement already satisfied: blis<0.5.0,>=0.4.0 in /Users/cenk.bircanoglu/.pyenv/versions/3.6.9/envs/learn-pytorch/lib/python3.6/site-packages (from spacy>=2.0.18->fastai) (0.4.1)\n",
      "Requirement already satisfied: preshed<3.1.0,>=3.0.2 in /Users/cenk.bircanoglu/.pyenv/versions/3.6.9/envs/learn-pytorch/lib/python3.6/site-packages (from spacy>=2.0.18->fastai) (3.0.2)\n",
      "Requirement already satisfied: plac<1.2.0,>=0.9.6 in /Users/cenk.bircanoglu/.pyenv/versions/3.6.9/envs/learn-pytorch/lib/python3.6/site-packages (from spacy>=2.0.18->fastai) (1.1.3)\n",
      "Requirement already satisfied: thinc<7.4.0,>=7.3.0 in /Users/cenk.bircanoglu/.pyenv/versions/3.6.9/envs/learn-pytorch/lib/python3.6/site-packages (from spacy>=2.0.18->fastai) (7.3.1)\n",
      "Requirement already satisfied: srsly<1.1.0,>=0.1.0 in /Users/cenk.bircanoglu/.pyenv/versions/3.6.9/envs/learn-pytorch/lib/python3.6/site-packages (from spacy>=2.0.18->fastai) (0.2.0)\n",
      "Requirement already satisfied: murmurhash<1.1.0,>=0.28.0 in /Users/cenk.bircanoglu/.pyenv/versions/3.6.9/envs/learn-pytorch/lib/python3.6/site-packages (from spacy>=2.0.18->fastai) (1.0.2)\n",
      "Requirement already satisfied: importlib-metadata>=0.20; python_version < \"3.8\" in /Users/cenk.bircanoglu/.pyenv/versions/3.6.9/envs/learn-pytorch/lib/python3.6/site-packages (from catalogue<1.1.0,>=0.0.7->spacy>=2.0.18->fastai) (1.2.0)\n",
      "Requirement already satisfied: tqdm<5.0.0,>=4.10.0 in /Users/cenk.bircanoglu/.pyenv/versions/3.6.9/envs/learn-pytorch/lib/python3.6/site-packages (from thinc<7.4.0,>=7.3.0->spacy>=2.0.18->fastai) (4.40.1)\n",
      "Requirement already satisfied: zipp>=0.5 in /Users/cenk.bircanoglu/.pyenv/versions/3.6.9/envs/learn-pytorch/lib/python3.6/site-packages (from importlib-metadata>=0.20; python_version < \"3.8\"->catalogue<1.1.0,>=0.0.7->spacy>=2.0.18->fastai) (0.6.0)\n",
      "Requirement already satisfied: more-itertools in /Users/cenk.bircanoglu/.pyenv/versions/3.6.9/envs/learn-pytorch/lib/python3.6/site-packages (from zipp>=0.5->importlib-metadata>=0.20; python_version < \"3.8\"->catalogue<1.1.0,>=0.0.7->spacy>=2.0.18->fastai) (8.0.2)\n"
     ]
    }
   ],
   "source": [
    "!pip install fastai"
   ]
  },
  {
   "cell_type": "code",
   "execution_count": 2,
   "metadata": {},
   "outputs": [],
   "source": [
    "from fastai.vision import *\n",
    "import numpy as np\n",
    "import torch\n",
    "\n",
    "import torchvision\n",
    "from torchvision import datasets, transforms\n",
    "from torchvision.datasets import FashionMNIST\n",
    "dataset_root = \"./data/fashion_pt\" \n",
    "Dataset = FashionMNIST"
   ]
  },
  {
   "cell_type": "code",
   "execution_count": 3,
   "metadata": {},
   "outputs": [],
   "source": [
    "transform = transforms.ToTensor()\n",
    "trainset = Dataset(dataset_root, download=True, train=True, transform=transform)\n",
    "testset = Dataset(dataset_root, download=True, train=False, transform=transform)\n",
    "\n",
    "classes = ['T-shirt/top', 'Trouser', 'Pullover', 'Dress', 'Coat', 'Sandal', 'Shirt', 'Sneaker', 'Bag', 'Ankle boot']\n",
    "num_classes = len(classes)"
   ]
  },
  {
   "cell_type": "code",
   "execution_count": 4,
   "metadata": {},
   "outputs": [],
   "source": [
    "def save_img(tensor, train_or_valid, target, index):\n",
    "    torchvision.utils.save_image(tensor, './data/fashion_pt/' + train_or_valid + '/' + target + '/' + index +'.jpg', nrow=1, padding=0, normalize=False, range=None, scale_each=False, pad_value=0)\n"
   ]
  },
  {
   "cell_type": "code",
   "execution_count": 5,
   "metadata": {},
   "outputs": [
    {
     "ename": "RuntimeError",
     "evalue": "result type Float can't be cast to the desired output type Byte",
     "output_type": "error",
     "traceback": [
      "\u001b[0;31m---------------------------------------------------------------------------\u001b[0m",
      "\u001b[0;31mRuntimeError\u001b[0m                              Traceback (most recent call last)",
      "\u001b[0;32m<ipython-input-5-8176851b2d6a>\u001b[0m in \u001b[0;36m<module>\u001b[0;34m\u001b[0m\n\u001b[1;32m      2\u001b[0m \u001b[0;34m\u001b[0m\u001b[0m\n\u001b[1;32m      3\u001b[0m \u001b[0;32mfor\u001b[0m \u001b[0mindex\u001b[0m \u001b[0;32min\u001b[0m \u001b[0mnp\u001b[0m\u001b[0;34m.\u001b[0m\u001b[0marange\u001b[0m\u001b[0;34m(\u001b[0m\u001b[0mtrainset\u001b[0m\u001b[0;34m.\u001b[0m\u001b[0mdata\u001b[0m\u001b[0;34m.\u001b[0m\u001b[0msize\u001b[0m\u001b[0;34m(\u001b[0m\u001b[0;34m)\u001b[0m\u001b[0;34m[\u001b[0m\u001b[0;36m0\u001b[0m\u001b[0;34m]\u001b[0m\u001b[0;34m)\u001b[0m\u001b[0;34m:\u001b[0m\u001b[0;34m\u001b[0m\u001b[0;34m\u001b[0m\u001b[0m\n\u001b[0;32m----> 4\u001b[0;31m     \u001b[0msave_img\u001b[0m\u001b[0;34m(\u001b[0m\u001b[0mtrainset\u001b[0m\u001b[0;34m.\u001b[0m\u001b[0mdata\u001b[0m\u001b[0;34m[\u001b[0m\u001b[0mindex\u001b[0m\u001b[0;34m]\u001b[0m\u001b[0;34m,\u001b[0m \u001b[0;34m'train'\u001b[0m\u001b[0;34m,\u001b[0m \u001b[0mstr\u001b[0m\u001b[0;34m(\u001b[0m\u001b[0mtrainset\u001b[0m\u001b[0;34m.\u001b[0m\u001b[0mtargets\u001b[0m\u001b[0;34m[\u001b[0m\u001b[0mindex\u001b[0m\u001b[0;34m]\u001b[0m\u001b[0;34m.\u001b[0m\u001b[0mnumpy\u001b[0m\u001b[0;34m(\u001b[0m\u001b[0;34m)\u001b[0m\u001b[0;34m)\u001b[0m\u001b[0;34m,\u001b[0m \u001b[0mstr\u001b[0m\u001b[0;34m(\u001b[0m\u001b[0mindex\u001b[0m\u001b[0;34m)\u001b[0m\u001b[0;34m)\u001b[0m\u001b[0;34m\u001b[0m\u001b[0;34m\u001b[0m\u001b[0m\n\u001b[0m",
      "\u001b[0;32m<ipython-input-4-38fe70a772e3>\u001b[0m in \u001b[0;36msave_img\u001b[0;34m(tensor, train_or_valid, target, index)\u001b[0m\n\u001b[1;32m      1\u001b[0m \u001b[0;32mdef\u001b[0m \u001b[0msave_img\u001b[0m\u001b[0;34m(\u001b[0m\u001b[0mtensor\u001b[0m\u001b[0;34m,\u001b[0m \u001b[0mtrain_or_valid\u001b[0m\u001b[0;34m,\u001b[0m \u001b[0mtarget\u001b[0m\u001b[0;34m,\u001b[0m \u001b[0mindex\u001b[0m\u001b[0;34m)\u001b[0m\u001b[0;34m:\u001b[0m\u001b[0;34m\u001b[0m\u001b[0;34m\u001b[0m\u001b[0m\n\u001b[0;32m----> 2\u001b[0;31m     \u001b[0mtorchvision\u001b[0m\u001b[0;34m.\u001b[0m\u001b[0mutils\u001b[0m\u001b[0;34m.\u001b[0m\u001b[0msave_image\u001b[0m\u001b[0;34m(\u001b[0m\u001b[0mtensor\u001b[0m\u001b[0;34m,\u001b[0m \u001b[0;34m'./data/fashion_pt/'\u001b[0m \u001b[0;34m+\u001b[0m \u001b[0mtrain_or_valid\u001b[0m \u001b[0;34m+\u001b[0m \u001b[0;34m'/'\u001b[0m \u001b[0;34m+\u001b[0m \u001b[0mtarget\u001b[0m \u001b[0;34m+\u001b[0m \u001b[0;34m'/'\u001b[0m \u001b[0;34m+\u001b[0m \u001b[0mindex\u001b[0m \u001b[0;34m+\u001b[0m\u001b[0;34m'.jpg'\u001b[0m\u001b[0;34m,\u001b[0m \u001b[0mnrow\u001b[0m\u001b[0;34m=\u001b[0m\u001b[0;36m1\u001b[0m\u001b[0;34m,\u001b[0m \u001b[0mpadding\u001b[0m\u001b[0;34m=\u001b[0m\u001b[0;36m0\u001b[0m\u001b[0;34m,\u001b[0m \u001b[0mnormalize\u001b[0m\u001b[0;34m=\u001b[0m\u001b[0;32mFalse\u001b[0m\u001b[0;34m,\u001b[0m \u001b[0mrange\u001b[0m\u001b[0;34m=\u001b[0m\u001b[0;32mNone\u001b[0m\u001b[0;34m,\u001b[0m \u001b[0mscale_each\u001b[0m\u001b[0;34m=\u001b[0m\u001b[0;32mFalse\u001b[0m\u001b[0;34m,\u001b[0m \u001b[0mpad_value\u001b[0m\u001b[0;34m=\u001b[0m\u001b[0;36m0\u001b[0m\u001b[0;34m)\u001b[0m\u001b[0;34m\u001b[0m\u001b[0;34m\u001b[0m\u001b[0m\n\u001b[0m",
      "\u001b[0;32m~/.pyenv/versions/3.6.9/envs/learn-pytorch/lib/python3.6/site-packages/torchvision/utils.py\u001b[0m in \u001b[0;36msave_image\u001b[0;34m(tensor, filename, nrow, padding, normalize, range, scale_each, pad_value)\u001b[0m\n\u001b[1;32m    101\u001b[0m                      normalize=normalize, range=range, scale_each=scale_each)\n\u001b[1;32m    102\u001b[0m     \u001b[0;31m# Add 0.5 after unnormalizing to [0, 255] to round to nearest integer\u001b[0m\u001b[0;34m\u001b[0m\u001b[0;34m\u001b[0m\u001b[0;34m\u001b[0m\u001b[0m\n\u001b[0;32m--> 103\u001b[0;31m     \u001b[0mndarr\u001b[0m \u001b[0;34m=\u001b[0m \u001b[0mgrid\u001b[0m\u001b[0;34m.\u001b[0m\u001b[0mmul_\u001b[0m\u001b[0;34m(\u001b[0m\u001b[0;36m255\u001b[0m\u001b[0;34m)\u001b[0m\u001b[0;34m.\u001b[0m\u001b[0madd_\u001b[0m\u001b[0;34m(\u001b[0m\u001b[0;36m0.5\u001b[0m\u001b[0;34m)\u001b[0m\u001b[0;34m.\u001b[0m\u001b[0mclamp_\u001b[0m\u001b[0;34m(\u001b[0m\u001b[0;36m0\u001b[0m\u001b[0;34m,\u001b[0m \u001b[0;36m255\u001b[0m\u001b[0;34m)\u001b[0m\u001b[0;34m.\u001b[0m\u001b[0mpermute\u001b[0m\u001b[0;34m(\u001b[0m\u001b[0;36m1\u001b[0m\u001b[0;34m,\u001b[0m \u001b[0;36m2\u001b[0m\u001b[0;34m,\u001b[0m \u001b[0;36m0\u001b[0m\u001b[0;34m)\u001b[0m\u001b[0;34m.\u001b[0m\u001b[0mto\u001b[0m\u001b[0;34m(\u001b[0m\u001b[0;34m'cpu'\u001b[0m\u001b[0;34m,\u001b[0m \u001b[0mtorch\u001b[0m\u001b[0;34m.\u001b[0m\u001b[0muint8\u001b[0m\u001b[0;34m)\u001b[0m\u001b[0;34m.\u001b[0m\u001b[0mnumpy\u001b[0m\u001b[0;34m(\u001b[0m\u001b[0;34m)\u001b[0m\u001b[0;34m\u001b[0m\u001b[0;34m\u001b[0m\u001b[0m\n\u001b[0m\u001b[1;32m    104\u001b[0m     \u001b[0mim\u001b[0m \u001b[0;34m=\u001b[0m \u001b[0mImage\u001b[0m\u001b[0;34m.\u001b[0m\u001b[0mfromarray\u001b[0m\u001b[0;34m(\u001b[0m\u001b[0mndarr\u001b[0m\u001b[0;34m)\u001b[0m\u001b[0;34m\u001b[0m\u001b[0;34m\u001b[0m\u001b[0m\n\u001b[1;32m    105\u001b[0m     \u001b[0mim\u001b[0m\u001b[0;34m.\u001b[0m\u001b[0msave\u001b[0m\u001b[0;34m(\u001b[0m\u001b[0mfilename\u001b[0m\u001b[0;34m)\u001b[0m\u001b[0;34m\u001b[0m\u001b[0;34m\u001b[0m\u001b[0m\n",
      "\u001b[0;31mRuntimeError\u001b[0m: result type Float can't be cast to the desired output type Byte"
     ]
    }
   ],
   "source": [
    "# Generating images for train\n",
    "\n",
    "for index in np.arange(trainset.data.size()[0]):\n",
    "    save_img(trainset.data[index], 'train', str(trainset.targets[index].numpy()), str(index))"
   ]
  },
  {
   "cell_type": "code",
   "execution_count": null,
   "metadata": {},
   "outputs": [],
   "source": [
    "# Generating images for validation\n",
    "\n",
    "for index in np.arange(testset.data.size()[0]):\n",
    "    save_img(testset.data[index], 'valid', str(testset.targets[index].numpy()), str(index))"
   ]
  },
  {
   "cell_type": "code",
   "execution_count": null,
   "metadata": {},
   "outputs": [],
   "source": [
    "data = ImageDataBunch.from_folder(dataset_root, ds_tfms=get_transforms()).normalize(imagenet_stats)\n",
    "data.show_batch(rows=4)"
   ]
  },
  {
   "cell_type": "code",
   "execution_count": null,
   "metadata": {},
   "outputs": [],
   "source": [
    "learn = cnn_learner(data, models.resnet18, metrics=accuracy)\n"
   ]
  },
  {
   "cell_type": "code",
   "execution_count": null,
   "metadata": {},
   "outputs": [],
   "source": [
    "learn.lr_find()"
   ]
  },
  {
   "cell_type": "code",
   "execution_count": null,
   "metadata": {},
   "outputs": [],
   "source": [
    "learn.recorder.plot()"
   ]
  },
  {
   "cell_type": "code",
   "execution_count": null,
   "metadata": {},
   "outputs": [],
   "source": [
    "learn.fit_one_cycle(1,max_lr=5e-2) #67% 8min"
   ]
  },
  {
   "cell_type": "code",
   "execution_count": null,
   "metadata": {},
   "outputs": [],
   "source": [
    "learn.unfreeze()\n",
    "learn.lr_find()"
   ]
  },
  {
   "cell_type": "code",
   "execution_count": null,
   "metadata": {},
   "outputs": [],
   "source": [
    "learn.recorder.plot()"
   ]
  },
  {
   "cell_type": "code",
   "execution_count": null,
   "metadata": {},
   "outputs": [],
   "source": [
    "learn.unfreeze()\n",
    "learn.fit_one_cycle(6, slice(1e-5,3e-4), pct_start=0.05)"
   ]
  },
  {
   "cell_type": "code",
   "execution_count": null,
   "metadata": {},
   "outputs": [],
   "source": [
    "learn.fit_one_cycle(6, slice(1e-6,1e-4), pct_start=0.05)"
   ]
  }
 ],
 "metadata": {
  "kernelspec": {
   "display_name": "Python 3",
   "language": "python",
   "name": "python3"
  },
  "language_info": {
   "codemirror_mode": {
    "name": "ipython",
    "version": 3
   },
   "file_extension": ".py",
   "mimetype": "text/x-python",
   "name": "python",
   "nbconvert_exporter": "python",
   "pygments_lexer": "ipython3",
   "version": "3.6.9"
  }
 },
 "nbformat": 4,
 "nbformat_minor": 2
}
