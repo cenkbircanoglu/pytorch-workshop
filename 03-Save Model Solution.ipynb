{
 "cells": [
  {
   "cell_type": "code",
   "execution_count": 1,
   "metadata": {},
   "outputs": [],
   "source": [
    "import warnings\n",
    "warnings.filterwarnings('ignore')"
   ]
  },
  {
   "cell_type": "code",
   "execution_count": 2,
   "metadata": {},
   "outputs": [],
   "source": [
    "import torch\n",
    "from torch import nn, optim"
   ]
  },
  {
   "cell_type": "code",
   "execution_count": 3,
   "metadata": {},
   "outputs": [],
   "source": [
    "# Define model\n",
    "class ConvModel(nn.Module):\n",
    "    def __init__(self):\n",
    "        super(ConvModel, self).__init__()\n",
    "        self.conv1 = nn.Conv2d(1, 2, 5)\n",
    "        self.pool = nn.MaxPool2d(2, 2)\n",
    "        self.conv2 = nn.Conv2d(2, 16, 5)\n",
    "        self.fc1 = nn.Linear(16 * 5 * 5, 120)\n",
    "        self.fc2 = nn.Linear(120, 84)\n",
    "        self.fc3 = nn.Linear(84, 10)\n",
    "\n",
    "    def forward(self, x):\n",
    "        x = self.pool(F.relu(self.conv1(x)))\n",
    "        x = self.pool(F.relu(self.conv2(x)))\n",
    "        x = x.view(-1, 16 * 5 * 5)\n",
    "        x = F.relu(self.fc1(x))\n",
    "        x = F.relu(self.fc2(x))\n",
    "        x = self.fc3(x)\n",
    "        return x\n",
    "\n",
    "# Initialize model\n",
    "model = ConvModel()\n",
    "\n",
    "# Initialize optimizer\n",
    "optimizer = optim.SGD(model.parameters(), lr=0.001, momentum=0.9)"
   ]
  },
  {
   "cell_type": "code",
   "execution_count": 4,
   "metadata": {},
   "outputs": [
    {
     "name": "stdout",
     "output_type": "stream",
     "text": [
      "Model's state_dict:\n",
      "conv1.weight \t torch.Size([2, 1, 5, 5])\n",
      "conv1.bias \t torch.Size([2])\n",
      "conv2.weight \t torch.Size([16, 2, 5, 5])\n",
      "conv2.bias \t torch.Size([16])\n",
      "fc1.weight \t torch.Size([120, 400])\n",
      "fc1.bias \t torch.Size([120])\n",
      "fc2.weight \t torch.Size([84, 120])\n",
      "fc2.bias \t torch.Size([84])\n",
      "fc3.weight \t torch.Size([10, 84])\n",
      "fc3.bias \t torch.Size([10])\n"
     ]
    }
   ],
   "source": [
    "# Print model's state_dict\n",
    "print(\"Model's state_dict:\")\n",
    "for param_tensor in model.state_dict():\n",
    "    print(param_tensor, \"\\t\", model.state_dict()[param_tensor].shape)"
   ]
  },
  {
   "cell_type": "markdown",
   "metadata": {},
   "source": [
    "# Save whole model serialised (not recommended)"
   ]
  },
  {
   "cell_type": "code",
   "execution_count": 5,
   "metadata": {},
   "outputs": [],
   "source": [
    "# Saving a model (seriealised)\n",
    "torch.save(model, 'model.pt')"
   ]
  },
  {
   "cell_type": "code",
   "execution_count": 6,
   "metadata": {},
   "outputs": [],
   "source": [
    "model_restored = torch.load('model.pt')"
   ]
  },
  {
   "cell_type": "code",
   "execution_count": 7,
   "metadata": {},
   "outputs": [
    {
     "name": "stdout",
     "output_type": "stream",
     "text": [
      "Model's state_dict:\n",
      "conv1.weight \t torch.Size([2, 1, 5, 5])\n",
      "conv1.bias \t torch.Size([2])\n",
      "conv2.weight \t torch.Size([16, 2, 5, 5])\n",
      "conv2.bias \t torch.Size([16])\n",
      "fc1.weight \t torch.Size([120, 400])\n",
      "fc1.bias \t torch.Size([120])\n",
      "fc2.weight \t torch.Size([84, 120])\n",
      "fc2.bias \t torch.Size([84])\n",
      "fc3.weight \t torch.Size([10, 84])\n",
      "fc3.bias \t torch.Size([10])\n"
     ]
    }
   ],
   "source": [
    "print(\"Model's state_dict:\")\n",
    "for param_tensor in model_restored.state_dict():\n",
    "    print(param_tensor, \"\\t\", model_restored.state_dict()[param_tensor].shape)"
   ]
  },
  {
   "cell_type": "markdown",
   "metadata": {},
   "source": [
    "# Save parameters of the model (recommended way)"
   ]
  },
  {
   "cell_type": "code",
   "execution_count": 8,
   "metadata": {},
   "outputs": [],
   "source": [
    "# We save the parameters\n",
    "torch.save(model.state_dict(), 'model_params.pt')"
   ]
  },
  {
   "cell_type": "code",
   "execution_count": 9,
   "metadata": {},
   "outputs": [],
   "source": [
    "# We generate another object with the same shape\n",
    "model_2 = ConvModel()"
   ]
  },
  {
   "cell_type": "code",
   "execution_count": 10,
   "metadata": {},
   "outputs": [
    {
     "data": {
      "text/plain": [
       "Parameter containing:\n",
       "tensor([[[[-0.0444,  0.1570, -0.0186, -0.0965,  0.1197],\n",
       "          [ 0.1386, -0.1475, -0.1814, -0.1548, -0.0949],\n",
       "          [-0.0817,  0.1686, -0.1831,  0.0099,  0.1208],\n",
       "          [-0.1084,  0.0096, -0.0999, -0.0679,  0.1540],\n",
       "          [-0.0448, -0.0826,  0.1859,  0.0273, -0.0661]]],\n",
       "\n",
       "\n",
       "        [[[ 0.1576,  0.1604, -0.0548, -0.1326, -0.0544],\n",
       "          [ 0.0026, -0.0719,  0.1970,  0.1336,  0.1556],\n",
       "          [ 0.0206, -0.0461,  0.0766, -0.0481, -0.0120],\n",
       "          [-0.1711,  0.1747, -0.0507,  0.0919,  0.0737],\n",
       "          [-0.0929,  0.1062, -0.0069,  0.1425, -0.0714]]]], requires_grad=True)"
      ]
     },
     "execution_count": 10,
     "metadata": {},
     "output_type": "execute_result"
    }
   ],
   "source": [
    "list( model_2.parameters() )[0]"
   ]
  },
  {
   "cell_type": "code",
   "execution_count": 11,
   "metadata": {},
   "outputs": [
    {
     "data": {
      "text/plain": [
       "<All keys matched successfully>"
      ]
     },
     "execution_count": 11,
     "metadata": {},
     "output_type": "execute_result"
    }
   ],
   "source": [
    "model_2.load_state_dict(torch.load('model_params.pt'))"
   ]
  },
  {
   "cell_type": "code",
   "execution_count": 12,
   "metadata": {},
   "outputs": [
    {
     "data": {
      "text/plain": [
       "Parameter containing:\n",
       "tensor([[[[-0.0530, -0.0431, -0.1500,  0.0498, -0.1820],\n",
       "          [-0.1012,  0.1697, -0.0537,  0.0496, -0.1558],\n",
       "          [-0.0728, -0.1747, -0.1867,  0.0351,  0.0357],\n",
       "          [-0.1214,  0.0509,  0.1317, -0.0915,  0.1183],\n",
       "          [ 0.1287,  0.1430,  0.0432, -0.1135, -0.1910]]],\n",
       "\n",
       "\n",
       "        [[[-0.0130,  0.1356,  0.0087, -0.1009, -0.1176],\n",
       "          [-0.0286, -0.1337, -0.0197,  0.1211, -0.0805],\n",
       "          [ 0.1709, -0.1395,  0.1944, -0.0823, -0.1315],\n",
       "          [ 0.1996, -0.0503,  0.0823,  0.0854, -0.1392],\n",
       "          [-0.1482,  0.0882, -0.1148,  0.1722,  0.1766]]]], requires_grad=True)"
      ]
     },
     "execution_count": 12,
     "metadata": {},
     "output_type": "execute_result"
    }
   ],
   "source": [
    "list( model_2.parameters() )[0]"
   ]
  },
  {
   "cell_type": "code",
   "execution_count": 13,
   "metadata": {},
   "outputs": [
    {
     "data": {
      "text/plain": [
       "Parameter containing:\n",
       "tensor([[[[-0.0530, -0.0431, -0.1500,  0.0498, -0.1820],\n",
       "          [-0.1012,  0.1697, -0.0537,  0.0496, -0.1558],\n",
       "          [-0.0728, -0.1747, -0.1867,  0.0351,  0.0357],\n",
       "          [-0.1214,  0.0509,  0.1317, -0.0915,  0.1183],\n",
       "          [ 0.1287,  0.1430,  0.0432, -0.1135, -0.1910]]],\n",
       "\n",
       "\n",
       "        [[[-0.0130,  0.1356,  0.0087, -0.1009, -0.1176],\n",
       "          [-0.0286, -0.1337, -0.0197,  0.1211, -0.0805],\n",
       "          [ 0.1709, -0.1395,  0.1944, -0.0823, -0.1315],\n",
       "          [ 0.1996, -0.0503,  0.0823,  0.0854, -0.1392],\n",
       "          [-0.1482,  0.0882, -0.1148,  0.1722,  0.1766]]]], requires_grad=True)"
      ]
     },
     "execution_count": 13,
     "metadata": {},
     "output_type": "execute_result"
    }
   ],
   "source": [
    "list( model.parameters() )[0]"
   ]
  },
  {
   "cell_type": "code",
   "execution_count": null,
   "metadata": {},
   "outputs": [],
   "source": []
  }
 ],
 "metadata": {
  "kernelspec": {
   "display_name": "Python 3",
   "language": "python",
   "name": "python3"
  },
  "language_info": {
   "codemirror_mode": {
    "name": "ipython",
    "version": 3
   },
   "file_extension": ".py",
   "mimetype": "text/x-python",
   "name": "python",
   "nbconvert_exporter": "python",
   "pygments_lexer": "ipython3",
   "version": "3.6.9"
  }
 },
 "nbformat": 4,
 "nbformat_minor": 2
}
