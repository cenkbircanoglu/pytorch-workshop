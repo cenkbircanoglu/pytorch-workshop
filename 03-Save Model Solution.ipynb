{
 "cells": [
  {
   "cell_type": "code",
   "execution_count": 1,
   "metadata": {},
   "outputs": [],
   "source": [
    "import warnings\n",
    "warnings.filterwarnings('ignore')"
   ]
  },
  {
   "cell_type": "code",
   "execution_count": 2,
   "metadata": {},
   "outputs": [],
   "source": [
    "import torch\n",
    "from torch import nn, optim"
   ]
  },
  {
   "cell_type": "code",
   "execution_count": 3,
   "metadata": {},
   "outputs": [],
   "source": [
    "# Define model\n",
    "class ConvModel(nn.Module):\n",
    "    def __init__(self):\n",
    "        super(ConvModel, self).__init__()\n",
    "        self.conv1 = nn.Conv2d(1, 2, 5)\n",
    "        self.pool = nn.MaxPool2d(2, 2)\n",
    "        self.conv2 = nn.Conv2d(2, 16, 5)\n",
    "        self.fc1 = nn.Linear(16 * 5 * 5, 120)\n",
    "        self.fc2 = nn.Linear(120, 84)\n",
    "        self.fc3 = nn.Linear(84, 10)\n",
    "\n",
    "    def forward(self, x):\n",
    "        x = self.pool(F.relu(self.conv1(x)))\n",
    "        x = self.pool(F.relu(self.conv2(x)))\n",
    "        x = x.view(-1, 16 * 5 * 5)\n",
    "        x = F.relu(self.fc1(x))\n",
    "        x = F.relu(self.fc2(x))\n",
    "        x = self.fc3(x)\n",
    "        return x\n",
    "\n",
    "# Initialize model\n",
    "model = ConvModel()\n",
    "\n",
    "# Initialize optimizer\n",
    "optimizer = optim.SGD(model.parameters(), lr=0.001, momentum=0.9)"
   ]
  },
  {
   "cell_type": "code",
   "execution_count": 4,
   "metadata": {},
   "outputs": [
    {
     "name": "stdout",
     "output_type": "stream",
     "text": [
      "Model's state_dict:\n",
      "conv1.weight \t torch.Size([2, 1, 5, 5])\n",
      "conv1.bias \t torch.Size([2])\n",
      "conv2.weight \t torch.Size([16, 2, 5, 5])\n",
      "conv2.bias \t torch.Size([16])\n",
      "fc1.weight \t torch.Size([120, 400])\n",
      "fc1.bias \t torch.Size([120])\n",
      "fc2.weight \t torch.Size([84, 120])\n",
      "fc2.bias \t torch.Size([84])\n",
      "fc3.weight \t torch.Size([10, 84])\n",
      "fc3.bias \t torch.Size([10])\n"
     ]
    }
   ],
   "source": [
    "# Print model's state_dict\n",
    "print(\"Model's state_dict:\")\n",
    "for param_tensor in model.state_dict():\n",
    "    print(param_tensor, \"\\t\", model.state_dict()[param_tensor].shape)"
   ]
  },
  {
   "cell_type": "markdown",
   "metadata": {},
   "source": [
    "# Save whole model serialised (not recommended)"
   ]
  },
  {
   "cell_type": "code",
   "execution_count": 5,
   "metadata": {},
   "outputs": [],
   "source": [
    "# Saving a model (seriealised)\n",
    "torch.save(model, 'model.pt')"
   ]
  },
  {
   "cell_type": "code",
   "execution_count": 6,
   "metadata": {},
   "outputs": [],
   "source": [
    "model_restored = torch.load('model.pt')"
   ]
  },
  {
   "cell_type": "code",
   "execution_count": 7,
   "metadata": {},
   "outputs": [
    {
     "name": "stdout",
     "output_type": "stream",
     "text": [
      "Model's state_dict:\n",
      "conv1.weight \t torch.Size([2, 1, 5, 5])\n",
      "conv1.bias \t torch.Size([2])\n",
      "conv2.weight \t torch.Size([16, 2, 5, 5])\n",
      "conv2.bias \t torch.Size([16])\n",
      "fc1.weight \t torch.Size([120, 400])\n",
      "fc1.bias \t torch.Size([120])\n",
      "fc2.weight \t torch.Size([84, 120])\n",
      "fc2.bias \t torch.Size([84])\n",
      "fc3.weight \t torch.Size([10, 84])\n",
      "fc3.bias \t torch.Size([10])\n"
     ]
    }
   ],
   "source": [
    "print(\"Model's state_dict:\")\n",
    "for param_tensor in model_restored.state_dict():\n",
    "    print(param_tensor, \"\\t\", model_restored.state_dict()[param_tensor].shape)"
   ]
  },
  {
   "cell_type": "markdown",
   "metadata": {},
   "source": [
    "# Save parameters of the model (recommended way)"
   ]
  },
  {
   "cell_type": "code",
   "execution_count": 8,
   "metadata": {},
   "outputs": [],
   "source": [
    "# We save the parameters\n",
    "torch.save(model.state_dict(), 'model_params.pt')"
   ]
  },
  {
   "cell_type": "code",
   "execution_count": 9,
   "metadata": {},
   "outputs": [],
   "source": [
    "# We generate another object with the same shape\n",
    "model_2 = ConvModel()"
   ]
  },
  {
   "cell_type": "code",
   "execution_count": 10,
   "metadata": {},
   "outputs": [
    {
     "data": {
      "text/plain": [
       "Parameter containing:\n",
       "tensor([[[[-0.0250, -0.1927, -0.1721,  0.1006, -0.1552],\n",
       "          [ 0.1121,  0.0398,  0.0953, -0.0219,  0.0270],\n",
       "          [-0.1435,  0.0705,  0.0162,  0.1826,  0.0134],\n",
       "          [-0.0992,  0.1626,  0.0632, -0.1126, -0.1139],\n",
       "          [-0.1561,  0.1838,  0.0267, -0.1809, -0.1873]]],\n",
       "\n",
       "\n",
       "        [[[-0.1042, -0.0234,  0.1420,  0.1122,  0.1865],\n",
       "          [ 0.0618,  0.0830, -0.0818, -0.0553,  0.0511],\n",
       "          [ 0.0754, -0.1321, -0.0070, -0.0998, -0.1283],\n",
       "          [ 0.0968,  0.1002,  0.1660,  0.0684,  0.0074],\n",
       "          [ 0.0332, -0.0946,  0.1185,  0.0040,  0.0939]]]], requires_grad=True)"
      ]
     },
     "execution_count": 10,
     "metadata": {},
     "output_type": "execute_result"
    }
   ],
   "source": [
    "list( model_2.parameters() )[0]"
   ]
  },
  {
   "cell_type": "code",
   "execution_count": 11,
   "metadata": {},
   "outputs": [
    {
     "data": {
      "text/plain": [
       "<All keys matched successfully>"
      ]
     },
     "execution_count": 11,
     "metadata": {},
     "output_type": "execute_result"
    }
   ],
   "source": [
    "model_2.load_state_dict(torch.load('model_params.pt'))"
   ]
  },
  {
   "cell_type": "code",
   "execution_count": 12,
   "metadata": {},
   "outputs": [
    {
     "data": {
      "text/plain": [
       "Parameter containing:\n",
       "tensor([[[[ 0.0676, -0.1965,  0.0124,  0.1616, -0.0505],\n",
       "          [-0.1171, -0.1013,  0.0044, -0.1624, -0.0323],\n",
       "          [-0.1984,  0.1492, -0.1321,  0.0816, -0.0149],\n",
       "          [ 0.1143,  0.0813,  0.1371,  0.0167, -0.1863],\n",
       "          [-0.0123,  0.1452,  0.1941, -0.0260, -0.1003]]],\n",
       "\n",
       "\n",
       "        [[[ 0.1184, -0.0809,  0.0626, -0.1644, -0.1212],\n",
       "          [-0.1548, -0.1173, -0.1422,  0.1562, -0.1439],\n",
       "          [ 0.0282, -0.1586,  0.1682, -0.1287,  0.0714],\n",
       "          [ 0.0440,  0.1154,  0.1684,  0.0696,  0.1641],\n",
       "          [ 0.0574, -0.1678,  0.0597, -0.0298,  0.0234]]]], requires_grad=True)"
      ]
     },
     "execution_count": 12,
     "metadata": {},
     "output_type": "execute_result"
    }
   ],
   "source": [
    "list( model_2.parameters() )[0]"
   ]
  },
  {
   "cell_type": "code",
   "execution_count": 13,
   "metadata": {},
   "outputs": [
    {
     "data": {
      "text/plain": [
       "Parameter containing:\n",
       "tensor([[[[ 0.0676, -0.1965,  0.0124,  0.1616, -0.0505],\n",
       "          [-0.1171, -0.1013,  0.0044, -0.1624, -0.0323],\n",
       "          [-0.1984,  0.1492, -0.1321,  0.0816, -0.0149],\n",
       "          [ 0.1143,  0.0813,  0.1371,  0.0167, -0.1863],\n",
       "          [-0.0123,  0.1452,  0.1941, -0.0260, -0.1003]]],\n",
       "\n",
       "\n",
       "        [[[ 0.1184, -0.0809,  0.0626, -0.1644, -0.1212],\n",
       "          [-0.1548, -0.1173, -0.1422,  0.1562, -0.1439],\n",
       "          [ 0.0282, -0.1586,  0.1682, -0.1287,  0.0714],\n",
       "          [ 0.0440,  0.1154,  0.1684,  0.0696,  0.1641],\n",
       "          [ 0.0574, -0.1678,  0.0597, -0.0298,  0.0234]]]], requires_grad=True)"
      ]
     },
     "execution_count": 13,
     "metadata": {},
     "output_type": "execute_result"
    }
   ],
   "source": [
    "list( model.parameters() )[0]"
   ]
  },
  {
   "cell_type": "code",
   "execution_count": null,
   "metadata": {},
   "outputs": [],
   "source": []
  }
 ],
 "metadata": {
  "kernelspec": {
   "display_name": "Python 3",
   "language": "python",
   "name": "python3"
  },
  "language_info": {
   "codemirror_mode": {
    "name": "ipython",
    "version": 3
   },
   "file_extension": ".py",
   "mimetype": "text/x-python",
   "name": "python",
   "nbconvert_exporter": "python",
   "pygments_lexer": "ipython3",
   "version": "3.6.9"
  }
 },
 "nbformat": 4,
 "nbformat_minor": 2
}
