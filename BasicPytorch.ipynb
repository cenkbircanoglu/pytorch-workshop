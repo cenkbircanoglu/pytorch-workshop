{
 "cells": [
  {
   "cell_type": "code",
   "execution_count": 1,
   "metadata": {},
   "outputs": [],
   "source": [
    "import numpy as np\n",
    "import torch\n",
    "import torch.nn as nn\n",
    "import torch.optim as optim\n",
    "import torch.nn.functional as F"
   ]
  },
  {
   "cell_type": "markdown",
   "metadata": {},
   "source": [
    "## Numpy array to torch tensor"
   ]
  },
  {
   "cell_type": "code",
   "execution_count": 2,
   "metadata": {},
   "outputs": [
    {
     "data": {
      "text/plain": [
       "(array([1, 2, 3]), tensor([ 1,  2,  3]))"
      ]
     },
     "execution_count": 2,
     "metadata": {},
     "output_type": "execute_result"
    }
   ],
   "source": [
    "a = np.array([1, 2, 3])\n",
    "b = torch.from_numpy(a)\n",
    "a, b"
   ]
  },
  {
   "cell_type": "markdown",
   "metadata": {},
   "source": [
    "They share memory"
   ]
  },
  {
   "cell_type": "code",
   "execution_count": 3,
   "metadata": {},
   "outputs": [
    {
     "data": {
      "text/plain": [
       "tensor([ 100,    2,    3])"
      ]
     },
     "execution_count": 3,
     "metadata": {},
     "output_type": "execute_result"
    }
   ],
   "source": [
    "a[0] = 100\n",
    "b"
   ]
  },
  {
   "cell_type": "markdown",
   "metadata": {},
   "source": [
    "## How autograd works"
   ]
  },
  {
   "cell_type": "code",
   "execution_count": 4,
   "metadata": {},
   "outputs": [
    {
     "data": {
      "text/plain": [
       "tensor(1.5500)"
      ]
     },
     "execution_count": 4,
     "metadata": {},
     "output_type": "execute_result"
    }
   ],
   "source": [
    "x1 = torch.tensor([0.1, 0.2], requires_grad=True)\n",
    "x2 = torch.tensor([0.1, 0.1], requires_grad=True)\n",
    "y = 3 * x1 + x2 + 1\n",
    "output = y.mean()\n",
    "output"
   ]
  },
  {
   "cell_type": "markdown",
   "metadata": {},
   "source": [
    "`backward` method calculate. __It does not put them to zero!__ But there is a convinient method for that."
   ]
  },
  {
   "cell_type": "code",
   "execution_count": 5,
   "metadata": {},
   "outputs": [
    {
     "name": "stdout",
     "output_type": "stream",
     "text": [
      "tensor([ 1.5000,  1.5000]) tensor([ 0.5000,  0.5000])\n",
      "tensor([ 3.,  3.]) tensor([ 1.,  1.])\n",
      "tensor([ 4.5000,  4.5000]) tensor([ 1.5000,  1.5000])\n"
     ]
    }
   ],
   "source": [
    "output.backward()\n",
    "print(x1.grad, x2.grad)\n",
    "output.backward()\n",
    "print(x1.grad, x2.grad)\n",
    "output.backward()\n",
    "print(x1.grad, x2.grad)"
   ]
  },
  {
   "cell_type": "code",
   "execution_count": 6,
   "metadata": {},
   "outputs": [
    {
     "data": {
      "text/plain": [
       "tensor([ 0.,  0.])"
      ]
     },
     "execution_count": 6,
     "metadata": {},
     "output_type": "execute_result"
    }
   ],
   "source": [
    "x1.grad.data.zero_()"
   ]
  },
  {
   "cell_type": "code",
   "execution_count": 7,
   "metadata": {},
   "outputs": [
    {
     "name": "stdout",
     "output_type": "stream",
     "text": [
      "tensor([ 1.5000,  1.5000]) tensor([ 2.,  2.])\n"
     ]
    }
   ],
   "source": [
    "output.backward()\n",
    "print(x1.grad, x2.grad)"
   ]
  },
  {
   "cell_type": "markdown",
   "metadata": {},
   "source": [
    "## Let's check if derivative are calculated correctly\n",
    "\n",
    "We start with $x = 2$.\n",
    "\n",
    "$y = f(x) = x^2 - 3$, $f(2) = 2^2 - 3 = 1$.\n",
    "\n",
    "$z = g(y) = y^3 - 2y$, $g(f(2)) = g(1) = 1^3 - 2\\cdot 1 = -1$"
   ]
  },
  {
   "cell_type": "code",
   "execution_count": 8,
   "metadata": {},
   "outputs": [
    {
     "name": "stdout",
     "output_type": "stream",
     "text": [
      "x =  tensor([ 2.])\n",
      "y =  tensor([ 1.])\n",
      "z =  tensor([-1.])\n"
     ]
    }
   ],
   "source": [
    "x = torch.tensor([2.0], requires_grad=True)\n",
    "print(\"x = \", x)\n",
    "y = x**2 - 3\n",
    "print(\"y = \", y)\n",
    "z = y**3 - 2*y\n",
    "print(\"z = \", z)\n"
   ]
  },
  {
   "cell_type": "markdown",
   "metadata": {},
   "source": [
    "\n",
    "#### Chain rule\n",
    "$(g(f(x))' = g'(f(x))\\cdot f'(x)$\n",
    "\n",
    "#### Derivaties\n",
    "$f'(x) = 2x$, $f'(2) = 2\\cdot 2 = 4$\n",
    "\n",
    "$g'(y) = 3y^2 - 2$, $g'(f(2)) = g'(1) = 3 - 2 = 1$\n",
    "\n",
    "$(g(f(2))'=g'(f(2))\\cdot f(2)) = 4 \\cdot 1 = 4$"
   ]
  },
  {
   "cell_type": "code",
   "execution_count": 9,
   "metadata": {},
   "outputs": [
    {
     "data": {
      "text/plain": [
       "tensor([ 4.])"
      ]
     },
     "execution_count": 9,
     "metadata": {},
     "output_type": "execute_result"
    }
   ],
   "source": [
    "z.backward()\n",
    "x.grad"
   ]
  }
 ],
 "metadata": {
  "kernelspec": {
   "display_name": "Python 3",
   "language": "python",
   "name": "python3"
  },
  "language_info": {
   "codemirror_mode": {
    "name": "ipython",
    "version": 3
   },
   "file_extension": ".py",
   "mimetype": "text/x-python",
   "name": "python",
   "nbconvert_exporter": "python",
   "pygments_lexer": "ipython3",
   "version": "3.6.4"
  }
 },
 "nbformat": 4,
 "nbformat_minor": 2
}
